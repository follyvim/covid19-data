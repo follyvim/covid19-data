{
 "cells": [
  {
   "cell_type": "code",
   "execution_count": 45,
   "id": "9794c2cf-8039-4658-8623-8524383244dc",
   "metadata": {},
   "outputs": [
    {
     "data": {
      "text/html": [
       "<div>\n",
       "<style scoped>\n",
       "    .dataframe tbody tr th:only-of-type {\n",
       "        vertical-align: middle;\n",
       "    }\n",
       "\n",
       "    .dataframe tbody tr th {\n",
       "        vertical-align: top;\n",
       "    }\n",
       "\n",
       "    .dataframe thead th {\n",
       "        text-align: right;\n",
       "    }\n",
       "</style>\n",
       "<table border=\"1\" class=\"dataframe\">\n",
       "  <thead>\n",
       "    <tr style=\"text-align: right;\">\n",
       "      <th></th>\n",
       "      <th>country</th>\n",
       "      <th>iso_code</th>\n",
       "      <th>date</th>\n",
       "      <th>total_vaccinations</th>\n",
       "      <th>people_vaccinated</th>\n",
       "      <th>people_fully_vaccinated</th>\n",
       "      <th>daily_vaccinations_raw</th>\n",
       "      <th>daily_vaccinations</th>\n",
       "      <th>total_vaccinations_per_hundred</th>\n",
       "      <th>people_vaccinated_per_hundred</th>\n",
       "      <th>people_fully_vaccinated_per_hundred</th>\n",
       "      <th>daily_vaccinations_per_million</th>\n",
       "      <th>vaccines</th>\n",
       "      <th>source_name</th>\n",
       "      <th>source_website</th>\n",
       "    </tr>\n",
       "  </thead>\n",
       "  <tbody>\n",
       "    <tr>\n",
       "      <th>0</th>\n",
       "      <td>Afghanistan</td>\n",
       "      <td>AFG</td>\n",
       "      <td>2021-02-22</td>\n",
       "      <td>0.0</td>\n",
       "      <td>0.0</td>\n",
       "      <td>NaN</td>\n",
       "      <td>NaN</td>\n",
       "      <td>NaN</td>\n",
       "      <td>0.0</td>\n",
       "      <td>0.0</td>\n",
       "      <td>NaN</td>\n",
       "      <td>NaN</td>\n",
       "      <td>Johnson&amp;Johnson, Oxford/AstraZeneca, Pfizer/Bi...</td>\n",
       "      <td>World Health Organization</td>\n",
       "      <td>https://covid19.who.int/</td>\n",
       "    </tr>\n",
       "    <tr>\n",
       "      <th>1</th>\n",
       "      <td>Afghanistan</td>\n",
       "      <td>AFG</td>\n",
       "      <td>2021-02-23</td>\n",
       "      <td>NaN</td>\n",
       "      <td>NaN</td>\n",
       "      <td>NaN</td>\n",
       "      <td>NaN</td>\n",
       "      <td>1367.0</td>\n",
       "      <td>NaN</td>\n",
       "      <td>NaN</td>\n",
       "      <td>NaN</td>\n",
       "      <td>34.0</td>\n",
       "      <td>Johnson&amp;Johnson, Oxford/AstraZeneca, Pfizer/Bi...</td>\n",
       "      <td>World Health Organization</td>\n",
       "      <td>https://covid19.who.int/</td>\n",
       "    </tr>\n",
       "    <tr>\n",
       "      <th>2</th>\n",
       "      <td>Afghanistan</td>\n",
       "      <td>AFG</td>\n",
       "      <td>2021-02-24</td>\n",
       "      <td>NaN</td>\n",
       "      <td>NaN</td>\n",
       "      <td>NaN</td>\n",
       "      <td>NaN</td>\n",
       "      <td>1367.0</td>\n",
       "      <td>NaN</td>\n",
       "      <td>NaN</td>\n",
       "      <td>NaN</td>\n",
       "      <td>34.0</td>\n",
       "      <td>Johnson&amp;Johnson, Oxford/AstraZeneca, Pfizer/Bi...</td>\n",
       "      <td>World Health Organization</td>\n",
       "      <td>https://covid19.who.int/</td>\n",
       "    </tr>\n",
       "    <tr>\n",
       "      <th>3</th>\n",
       "      <td>Afghanistan</td>\n",
       "      <td>AFG</td>\n",
       "      <td>2021-02-25</td>\n",
       "      <td>NaN</td>\n",
       "      <td>NaN</td>\n",
       "      <td>NaN</td>\n",
       "      <td>NaN</td>\n",
       "      <td>1367.0</td>\n",
       "      <td>NaN</td>\n",
       "      <td>NaN</td>\n",
       "      <td>NaN</td>\n",
       "      <td>34.0</td>\n",
       "      <td>Johnson&amp;Johnson, Oxford/AstraZeneca, Pfizer/Bi...</td>\n",
       "      <td>World Health Organization</td>\n",
       "      <td>https://covid19.who.int/</td>\n",
       "    </tr>\n",
       "    <tr>\n",
       "      <th>4</th>\n",
       "      <td>Afghanistan</td>\n",
       "      <td>AFG</td>\n",
       "      <td>2021-02-26</td>\n",
       "      <td>NaN</td>\n",
       "      <td>NaN</td>\n",
       "      <td>NaN</td>\n",
       "      <td>NaN</td>\n",
       "      <td>1367.0</td>\n",
       "      <td>NaN</td>\n",
       "      <td>NaN</td>\n",
       "      <td>NaN</td>\n",
       "      <td>34.0</td>\n",
       "      <td>Johnson&amp;Johnson, Oxford/AstraZeneca, Pfizer/Bi...</td>\n",
       "      <td>World Health Organization</td>\n",
       "      <td>https://covid19.who.int/</td>\n",
       "    </tr>\n",
       "  </tbody>\n",
       "</table>\n",
       "</div>"
      ],
      "text/plain": [
       "       country iso_code        date  total_vaccinations  people_vaccinated  \\\n",
       "0  Afghanistan      AFG  2021-02-22                 0.0                0.0   \n",
       "1  Afghanistan      AFG  2021-02-23                 NaN                NaN   \n",
       "2  Afghanistan      AFG  2021-02-24                 NaN                NaN   \n",
       "3  Afghanistan      AFG  2021-02-25                 NaN                NaN   \n",
       "4  Afghanistan      AFG  2021-02-26                 NaN                NaN   \n",
       "\n",
       "   people_fully_vaccinated  daily_vaccinations_raw  daily_vaccinations  \\\n",
       "0                      NaN                     NaN                 NaN   \n",
       "1                      NaN                     NaN              1367.0   \n",
       "2                      NaN                     NaN              1367.0   \n",
       "3                      NaN                     NaN              1367.0   \n",
       "4                      NaN                     NaN              1367.0   \n",
       "\n",
       "   total_vaccinations_per_hundred  people_vaccinated_per_hundred  \\\n",
       "0                             0.0                            0.0   \n",
       "1                             NaN                            NaN   \n",
       "2                             NaN                            NaN   \n",
       "3                             NaN                            NaN   \n",
       "4                             NaN                            NaN   \n",
       "\n",
       "   people_fully_vaccinated_per_hundred  daily_vaccinations_per_million  \\\n",
       "0                                  NaN                             NaN   \n",
       "1                                  NaN                            34.0   \n",
       "2                                  NaN                            34.0   \n",
       "3                                  NaN                            34.0   \n",
       "4                                  NaN                            34.0   \n",
       "\n",
       "                                            vaccines  \\\n",
       "0  Johnson&Johnson, Oxford/AstraZeneca, Pfizer/Bi...   \n",
       "1  Johnson&Johnson, Oxford/AstraZeneca, Pfizer/Bi...   \n",
       "2  Johnson&Johnson, Oxford/AstraZeneca, Pfizer/Bi...   \n",
       "3  Johnson&Johnson, Oxford/AstraZeneca, Pfizer/Bi...   \n",
       "4  Johnson&Johnson, Oxford/AstraZeneca, Pfizer/Bi...   \n",
       "\n",
       "                 source_name            source_website  \n",
       "0  World Health Organization  https://covid19.who.int/  \n",
       "1  World Health Organization  https://covid19.who.int/  \n",
       "2  World Health Organization  https://covid19.who.int/  \n",
       "3  World Health Organization  https://covid19.who.int/  \n",
       "4  World Health Organization  https://covid19.who.int/  "
      ]
     },
     "execution_count": 45,
     "metadata": {},
     "output_type": "execute_result"
    }
   ],
   "source": [
    "import pandas as pd\n",
    "import numpy as np\n",
    "import seaborn as sns\n",
    "import matplotlib.pyplot as plt\n",
    "%matplotlib inline\n",
    "\n",
    "\n",
    "covid=pd.read_csv('country_vaccinations-Copy1.csv')\n",
    "covid.head()"
   ]
  },
  {
   "cell_type": "code",
   "execution_count": 46,
   "id": "37a7c2d8-d7b4-4fa0-85c0-14273eb67988",
   "metadata": {},
   "outputs": [
    {
     "data": {
      "text/html": [
       "<div>\n",
       "<style scoped>\n",
       "    .dataframe tbody tr th:only-of-type {\n",
       "        vertical-align: middle;\n",
       "    }\n",
       "\n",
       "    .dataframe tbody tr th {\n",
       "        vertical-align: top;\n",
       "    }\n",
       "\n",
       "    .dataframe thead th {\n",
       "        text-align: right;\n",
       "    }\n",
       "</style>\n",
       "<table border=\"1\" class=\"dataframe\">\n",
       "  <thead>\n",
       "    <tr style=\"text-align: right;\">\n",
       "      <th></th>\n",
       "      <th>country</th>\n",
       "      <th>iso_code</th>\n",
       "      <th>date</th>\n",
       "      <th>total_vaccinations</th>\n",
       "      <th>people_vaccinated</th>\n",
       "      <th>people_fully_vaccinated</th>\n",
       "      <th>daily_vaccinations_raw</th>\n",
       "      <th>daily_vaccinations</th>\n",
       "      <th>total_vaccinations_per_hundred</th>\n",
       "      <th>people_vaccinated_per_hundred</th>\n",
       "      <th>people_fully_vaccinated_per_hundred</th>\n",
       "      <th>daily_vaccinations_per_million</th>\n",
       "      <th>vaccines</th>\n",
       "      <th>source_name</th>\n",
       "      <th>source_website</th>\n",
       "      <th>month</th>\n",
       "    </tr>\n",
       "  </thead>\n",
       "  <tbody>\n",
       "    <tr>\n",
       "      <th>0</th>\n",
       "      <td>Afghanistan</td>\n",
       "      <td>AFG</td>\n",
       "      <td>2021-02-22</td>\n",
       "      <td>0.0</td>\n",
       "      <td>0.0</td>\n",
       "      <td>NaN</td>\n",
       "      <td>NaN</td>\n",
       "      <td>NaN</td>\n",
       "      <td>0.0</td>\n",
       "      <td>0.0</td>\n",
       "      <td>NaN</td>\n",
       "      <td>NaN</td>\n",
       "      <td>Johnson&amp;Johnson, Oxford/AstraZeneca, Pfizer/Bi...</td>\n",
       "      <td>World Health Organization</td>\n",
       "      <td>https://covid19.who.int/</td>\n",
       "      <td>02</td>\n",
       "    </tr>\n",
       "    <tr>\n",
       "      <th>1</th>\n",
       "      <td>Afghanistan</td>\n",
       "      <td>AFG</td>\n",
       "      <td>2021-02-23</td>\n",
       "      <td>NaN</td>\n",
       "      <td>NaN</td>\n",
       "      <td>NaN</td>\n",
       "      <td>NaN</td>\n",
       "      <td>1367.0</td>\n",
       "      <td>NaN</td>\n",
       "      <td>NaN</td>\n",
       "      <td>NaN</td>\n",
       "      <td>34.0</td>\n",
       "      <td>Johnson&amp;Johnson, Oxford/AstraZeneca, Pfizer/Bi...</td>\n",
       "      <td>World Health Organization</td>\n",
       "      <td>https://covid19.who.int/</td>\n",
       "      <td>02</td>\n",
       "    </tr>\n",
       "    <tr>\n",
       "      <th>2</th>\n",
       "      <td>Afghanistan</td>\n",
       "      <td>AFG</td>\n",
       "      <td>2021-02-24</td>\n",
       "      <td>NaN</td>\n",
       "      <td>NaN</td>\n",
       "      <td>NaN</td>\n",
       "      <td>NaN</td>\n",
       "      <td>1367.0</td>\n",
       "      <td>NaN</td>\n",
       "      <td>NaN</td>\n",
       "      <td>NaN</td>\n",
       "      <td>34.0</td>\n",
       "      <td>Johnson&amp;Johnson, Oxford/AstraZeneca, Pfizer/Bi...</td>\n",
       "      <td>World Health Organization</td>\n",
       "      <td>https://covid19.who.int/</td>\n",
       "      <td>02</td>\n",
       "    </tr>\n",
       "    <tr>\n",
       "      <th>3</th>\n",
       "      <td>Afghanistan</td>\n",
       "      <td>AFG</td>\n",
       "      <td>2021-02-25</td>\n",
       "      <td>NaN</td>\n",
       "      <td>NaN</td>\n",
       "      <td>NaN</td>\n",
       "      <td>NaN</td>\n",
       "      <td>1367.0</td>\n",
       "      <td>NaN</td>\n",
       "      <td>NaN</td>\n",
       "      <td>NaN</td>\n",
       "      <td>34.0</td>\n",
       "      <td>Johnson&amp;Johnson, Oxford/AstraZeneca, Pfizer/Bi...</td>\n",
       "      <td>World Health Organization</td>\n",
       "      <td>https://covid19.who.int/</td>\n",
       "      <td>02</td>\n",
       "    </tr>\n",
       "    <tr>\n",
       "      <th>4</th>\n",
       "      <td>Afghanistan</td>\n",
       "      <td>AFG</td>\n",
       "      <td>2021-02-26</td>\n",
       "      <td>NaN</td>\n",
       "      <td>NaN</td>\n",
       "      <td>NaN</td>\n",
       "      <td>NaN</td>\n",
       "      <td>1367.0</td>\n",
       "      <td>NaN</td>\n",
       "      <td>NaN</td>\n",
       "      <td>NaN</td>\n",
       "      <td>34.0</td>\n",
       "      <td>Johnson&amp;Johnson, Oxford/AstraZeneca, Pfizer/Bi...</td>\n",
       "      <td>World Health Organization</td>\n",
       "      <td>https://covid19.who.int/</td>\n",
       "      <td>02</td>\n",
       "    </tr>\n",
       "  </tbody>\n",
       "</table>\n",
       "</div>"
      ],
      "text/plain": [
       "       country iso_code        date  total_vaccinations  people_vaccinated  \\\n",
       "0  Afghanistan      AFG  2021-02-22                 0.0                0.0   \n",
       "1  Afghanistan      AFG  2021-02-23                 NaN                NaN   \n",
       "2  Afghanistan      AFG  2021-02-24                 NaN                NaN   \n",
       "3  Afghanistan      AFG  2021-02-25                 NaN                NaN   \n",
       "4  Afghanistan      AFG  2021-02-26                 NaN                NaN   \n",
       "\n",
       "   people_fully_vaccinated  daily_vaccinations_raw  daily_vaccinations  \\\n",
       "0                      NaN                     NaN                 NaN   \n",
       "1                      NaN                     NaN              1367.0   \n",
       "2                      NaN                     NaN              1367.0   \n",
       "3                      NaN                     NaN              1367.0   \n",
       "4                      NaN                     NaN              1367.0   \n",
       "\n",
       "   total_vaccinations_per_hundred  people_vaccinated_per_hundred  \\\n",
       "0                             0.0                            0.0   \n",
       "1                             NaN                            NaN   \n",
       "2                             NaN                            NaN   \n",
       "3                             NaN                            NaN   \n",
       "4                             NaN                            NaN   \n",
       "\n",
       "   people_fully_vaccinated_per_hundred  daily_vaccinations_per_million  \\\n",
       "0                                  NaN                             NaN   \n",
       "1                                  NaN                            34.0   \n",
       "2                                  NaN                            34.0   \n",
       "3                                  NaN                            34.0   \n",
       "4                                  NaN                            34.0   \n",
       "\n",
       "                                            vaccines  \\\n",
       "0  Johnson&Johnson, Oxford/AstraZeneca, Pfizer/Bi...   \n",
       "1  Johnson&Johnson, Oxford/AstraZeneca, Pfizer/Bi...   \n",
       "2  Johnson&Johnson, Oxford/AstraZeneca, Pfizer/Bi...   \n",
       "3  Johnson&Johnson, Oxford/AstraZeneca, Pfizer/Bi...   \n",
       "4  Johnson&Johnson, Oxford/AstraZeneca, Pfizer/Bi...   \n",
       "\n",
       "                 source_name            source_website month  \n",
       "0  World Health Organization  https://covid19.who.int/    02  \n",
       "1  World Health Organization  https://covid19.who.int/    02  \n",
       "2  World Health Organization  https://covid19.who.int/    02  \n",
       "3  World Health Organization  https://covid19.who.int/    02  \n",
       "4  World Health Organization  https://covid19.who.int/    02  "
      ]
     },
     "execution_count": 46,
     "metadata": {},
     "output_type": "execute_result"
    }
   ],
   "source": [
    "covid['month']=[i.split('-')[1] for i in covid['date']]\n",
    "covid.head()"
   ]
  },
  {
   "cell_type": "code",
   "execution_count": 50,
   "id": "f8f2b211-9e7c-4389-bf46-de41a69d8479",
   "metadata": {},
   "outputs": [
    {
     "name": "stdout",
     "output_type": "stream",
     "text": [
      "<class 'pandas.core.frame.DataFrame'>\n",
      "Int64Index: 21588 entries, 94 to 56640\n",
      "Data columns (total 16 columns):\n",
      " #   Column                               Non-Null Count  Dtype  \n",
      "---  ------                               --------------  -----  \n",
      " 0   country                              21588 non-null  object \n",
      " 1   iso_code                             21588 non-null  object \n",
      " 2   date                                 21588 non-null  object \n",
      " 3   total_vaccinations                   21588 non-null  float64\n",
      " 4   people_vaccinated                    21588 non-null  float64\n",
      " 5   people_fully_vaccinated              21588 non-null  float64\n",
      " 6   daily_vaccinations_raw               21588 non-null  float64\n",
      " 7   daily_vaccinations                   21588 non-null  float64\n",
      " 8   total_vaccinations_per_hundred       21588 non-null  float64\n",
      " 9   people_vaccinated_per_hundred        21588 non-null  float64\n",
      " 10  people_fully_vaccinated_per_hundred  21588 non-null  float64\n",
      " 11  daily_vaccinations_per_million       21588 non-null  float64\n",
      " 12  vaccines                             21588 non-null  object \n",
      " 13  source_name                          21588 non-null  object \n",
      " 14  source_website                       21588 non-null  object \n",
      " 15  month                                21588 non-null  object \n",
      "dtypes: float64(9), object(7)\n",
      "memory usage: 2.8+ MB\n"
     ]
    }
   ],
   "source": [
    "covid.info()"
   ]
  },
  {
   "cell_type": "code",
   "execution_count": 51,
   "id": "d6b801ee-7e44-445d-9731-b6d0e0ad1494",
   "metadata": {},
   "outputs": [
    {
     "data": {
      "text/plain": [
       "country                                0\n",
       "iso_code                               0\n",
       "date                                   0\n",
       "total_vaccinations                     0\n",
       "people_vaccinated                      0\n",
       "people_fully_vaccinated                0\n",
       "daily_vaccinations_raw                 0\n",
       "daily_vaccinations                     0\n",
       "total_vaccinations_per_hundred         0\n",
       "people_vaccinated_per_hundred          0\n",
       "people_fully_vaccinated_per_hundred    0\n",
       "daily_vaccinations_per_million         0\n",
       "vaccines                               0\n",
       "source_name                            0\n",
       "source_website                         0\n",
       "month                                  0\n",
       "dtype: int64"
      ]
     },
     "execution_count": 51,
     "metadata": {},
     "output_type": "execute_result"
    }
   ],
   "source": [
    "covid.isnull().sum()"
   ]
  },
  {
   "cell_type": "code",
   "execution_count": 48,
   "id": "c5988b14-bb5b-4907-8b0b-89ed6c531465",
   "metadata": {},
   "outputs": [],
   "source": [
    "covid.dropna(axis = 0, inplace=True)"
   ]
  },
  {
   "cell_type": "code",
   "execution_count": 44,
   "id": "f7569549-c97a-4e55-a91f-3892f47d8df3",
   "metadata": {},
   "outputs": [
    {
     "data": {
      "text/plain": [
       "94        2859\n",
       "101       4015\n",
       "295       1348\n",
       "377       9548\n",
       "378      10169\n",
       "         ...  \n",
       "56636    14598\n",
       "56637    16667\n",
       "56638    14436\n",
       "56639    12863\n",
       "56640    22389\n",
       "Name: daily_vaccinations_raw, Length: 21588, dtype: int32"
      ]
     },
     "execution_count": 44,
     "metadata": {},
     "output_type": "execute_result"
    }
   ],
   "source": [
    "covid['total_vaccinations'].astype(int)\n",
    "covid['people_vaccinated'].astype(int)\n",
    "covid['people_fully_vaccinated'].astype(int)\n",
    "covid['daily_vaccinations_raw'].astype(int)"
   ]
  },
  {
   "cell_type": "code",
   "execution_count": 52,
   "id": "aa5aaa46-2f7e-4215-9b4c-fa39e07d1984",
   "metadata": {},
   "outputs": [
    {
     "data": {
      "text/plain": [
       "country                                  163\n",
       "iso_code                                 163\n",
       "date                                     331\n",
       "total_vaccinations                     21371\n",
       "people_vaccinated                      21291\n",
       "people_fully_vaccinated                20835\n",
       "daily_vaccinations_raw                 18669\n",
       "daily_vaccinations                     18978\n",
       "total_vaccinations_per_hundred         11086\n",
       "people_vaccinated_per_hundred           7538\n",
       "people_fully_vaccinated_per_hundred     6808\n",
       "daily_vaccinations_per_million          9483\n",
       "vaccines                                  67\n",
       "source_name                               75\n",
       "source_website                           124\n",
       "month                                     12\n",
       "dtype: int64"
      ]
     },
     "execution_count": 52,
     "metadata": {},
     "output_type": "execute_result"
    }
   ],
   "source": [
    "covid.nunique()"
   ]
  },
  {
   "cell_type": "code",
   "execution_count": 54,
   "id": "c95d6a76-dbc8-45e9-9e36-d84753bee322",
   "metadata": {},
   "outputs": [
    {
     "data": {
      "text/html": [
       "<div>\n",
       "<style scoped>\n",
       "    .dataframe tbody tr th:only-of-type {\n",
       "        vertical-align: middle;\n",
       "    }\n",
       "\n",
       "    .dataframe tbody tr th {\n",
       "        vertical-align: top;\n",
       "    }\n",
       "\n",
       "    .dataframe thead th {\n",
       "        text-align: right;\n",
       "    }\n",
       "</style>\n",
       "<table border=\"1\" class=\"dataframe\">\n",
       "  <thead>\n",
       "    <tr style=\"text-align: right;\">\n",
       "      <th></th>\n",
       "      <th>total_vaccinations</th>\n",
       "      <th>people_vaccinated</th>\n",
       "      <th>people_fully_vaccinated</th>\n",
       "      <th>daily_vaccinations_raw</th>\n",
       "      <th>daily_vaccinations</th>\n",
       "      <th>total_vaccinations_per_hundred</th>\n",
       "      <th>people_vaccinated_per_hundred</th>\n",
       "      <th>people_fully_vaccinated_per_hundred</th>\n",
       "      <th>daily_vaccinations_per_million</th>\n",
       "    </tr>\n",
       "  </thead>\n",
       "  <tbody>\n",
       "    <tr>\n",
       "      <th>count</th>\n",
       "      <td>2.158800e+04</td>\n",
       "      <td>2.158800e+04</td>\n",
       "      <td>2.158800e+04</td>\n",
       "      <td>2.158800e+04</td>\n",
       "      <td>2.158800e+04</td>\n",
       "      <td>21588.000000</td>\n",
       "      <td>21588.000000</td>\n",
       "      <td>21588.000000</td>\n",
       "      <td>21588.000000</td>\n",
       "    </tr>\n",
       "    <tr>\n",
       "      <th>mean</th>\n",
       "      <td>2.217240e+07</td>\n",
       "      <td>1.388150e+07</td>\n",
       "      <td>8.325712e+06</td>\n",
       "      <td>1.873659e+05</td>\n",
       "      <td>1.815124e+05</td>\n",
       "      <td>60.175535</td>\n",
       "      <td>34.647553</td>\n",
       "      <td>25.113287</td>\n",
       "      <td>4547.103947</td>\n",
       "    </tr>\n",
       "    <tr>\n",
       "      <th>std</th>\n",
       "      <td>7.496894e+07</td>\n",
       "      <td>4.990036e+07</td>\n",
       "      <td>2.679034e+07</td>\n",
       "      <td>6.299611e+05</td>\n",
       "      <td>5.709361e+05</td>\n",
       "      <td>50.640855</td>\n",
       "      <td>25.941260</td>\n",
       "      <td>24.245648</td>\n",
       "      <td>3903.039242</td>\n",
       "    </tr>\n",
       "    <tr>\n",
       "      <th>min</th>\n",
       "      <td>3.000000e+00</td>\n",
       "      <td>3.000000e+00</td>\n",
       "      <td>1.000000e+00</td>\n",
       "      <td>0.000000e+00</td>\n",
       "      <td>0.000000e+00</td>\n",
       "      <td>0.000000</td>\n",
       "      <td>0.000000</td>\n",
       "      <td>0.000000</td>\n",
       "      <td>0.000000</td>\n",
       "    </tr>\n",
       "    <tr>\n",
       "      <th>25%</th>\n",
       "      <td>7.288470e+05</td>\n",
       "      <td>4.996948e+05</td>\n",
       "      <td>1.899802e+05</td>\n",
       "      <td>6.175750e+03</td>\n",
       "      <td>8.027000e+03</td>\n",
       "      <td>13.720000</td>\n",
       "      <td>9.817500</td>\n",
       "      <td>3.270000</td>\n",
       "      <td>1746.000000</td>\n",
       "    </tr>\n",
       "    <tr>\n",
       "      <th>50%</th>\n",
       "      <td>3.518310e+06</td>\n",
       "      <td>2.275286e+06</td>\n",
       "      <td>1.122024e+06</td>\n",
       "      <td>2.873600e+04</td>\n",
       "      <td>3.101150e+04</td>\n",
       "      <td>48.595000</td>\n",
       "      <td>31.670000</td>\n",
       "      <td>16.380000</td>\n",
       "      <td>3464.000000</td>\n",
       "    </tr>\n",
       "    <tr>\n",
       "      <th>75%</th>\n",
       "      <td>1.325257e+07</td>\n",
       "      <td>8.083669e+06</td>\n",
       "      <td>5.149743e+06</td>\n",
       "      <td>1.314088e+05</td>\n",
       "      <td>1.330770e+05</td>\n",
       "      <td>102.012500</td>\n",
       "      <td>57.702500</td>\n",
       "      <td>44.815000</td>\n",
       "      <td>6539.000000</td>\n",
       "    </tr>\n",
       "    <tr>\n",
       "      <th>max</th>\n",
       "      <td>2.174043e+09</td>\n",
       "      <td>1.100842e+09</td>\n",
       "      <td>1.022207e+09</td>\n",
       "      <td>1.862727e+07</td>\n",
       "      <td>1.307071e+07</td>\n",
       "      <td>272.870000</td>\n",
       "      <td>120.440000</td>\n",
       "      <td>118.170000</td>\n",
       "      <td>78604.000000</td>\n",
       "    </tr>\n",
       "  </tbody>\n",
       "</table>\n",
       "</div>"
      ],
      "text/plain": [
       "       total_vaccinations  people_vaccinated  people_fully_vaccinated  \\\n",
       "count        2.158800e+04       2.158800e+04             2.158800e+04   \n",
       "mean         2.217240e+07       1.388150e+07             8.325712e+06   \n",
       "std          7.496894e+07       4.990036e+07             2.679034e+07   \n",
       "min          3.000000e+00       3.000000e+00             1.000000e+00   \n",
       "25%          7.288470e+05       4.996948e+05             1.899802e+05   \n",
       "50%          3.518310e+06       2.275286e+06             1.122024e+06   \n",
       "75%          1.325257e+07       8.083669e+06             5.149743e+06   \n",
       "max          2.174043e+09       1.100842e+09             1.022207e+09   \n",
       "\n",
       "       daily_vaccinations_raw  daily_vaccinations  \\\n",
       "count            2.158800e+04        2.158800e+04   \n",
       "mean             1.873659e+05        1.815124e+05   \n",
       "std              6.299611e+05        5.709361e+05   \n",
       "min              0.000000e+00        0.000000e+00   \n",
       "25%              6.175750e+03        8.027000e+03   \n",
       "50%              2.873600e+04        3.101150e+04   \n",
       "75%              1.314088e+05        1.330770e+05   \n",
       "max              1.862727e+07        1.307071e+07   \n",
       "\n",
       "       total_vaccinations_per_hundred  people_vaccinated_per_hundred  \\\n",
       "count                    21588.000000                   21588.000000   \n",
       "mean                        60.175535                      34.647553   \n",
       "std                         50.640855                      25.941260   \n",
       "min                          0.000000                       0.000000   \n",
       "25%                         13.720000                       9.817500   \n",
       "50%                         48.595000                      31.670000   \n",
       "75%                        102.012500                      57.702500   \n",
       "max                        272.870000                     120.440000   \n",
       "\n",
       "       people_fully_vaccinated_per_hundred  daily_vaccinations_per_million  \n",
       "count                         21588.000000                    21588.000000  \n",
       "mean                             25.113287                     4547.103947  \n",
       "std                              24.245648                     3903.039242  \n",
       "min                               0.000000                        0.000000  \n",
       "25%                               3.270000                     1746.000000  \n",
       "50%                              16.380000                     3464.000000  \n",
       "75%                              44.815000                     6539.000000  \n",
       "max                             118.170000                    78604.000000  "
      ]
     },
     "execution_count": 54,
     "metadata": {},
     "output_type": "execute_result"
    }
   ],
   "source": [
    "covid.describe()"
   ]
  },
  {
   "cell_type": "code",
   "execution_count": 58,
   "id": "ff96fa43-6463-40ca-9d86-a8a33554c0d3",
   "metadata": {},
   "outputs": [
    {
     "data": {
      "text/html": [
       "<div>\n",
       "<style scoped>\n",
       "    .dataframe tbody tr th:only-of-type {\n",
       "        vertical-align: middle;\n",
       "    }\n",
       "\n",
       "    .dataframe tbody tr th {\n",
       "        vertical-align: top;\n",
       "    }\n",
       "\n",
       "    .dataframe thead th {\n",
       "        text-align: right;\n",
       "    }\n",
       "</style>\n",
       "<table border=\"1\" class=\"dataframe\">\n",
       "  <thead>\n",
       "    <tr style=\"text-align: right;\">\n",
       "      <th></th>\n",
       "      <th>total_vaccinations</th>\n",
       "      <th>people_vaccinated</th>\n",
       "      <th>people_fully_vaccinated</th>\n",
       "      <th>daily_vaccinations_raw</th>\n",
       "      <th>daily_vaccinations</th>\n",
       "      <th>total_vaccinations_per_hundred</th>\n",
       "      <th>people_vaccinated_per_hundred</th>\n",
       "      <th>people_fully_vaccinated_per_hundred</th>\n",
       "      <th>daily_vaccinations_per_million</th>\n",
       "    </tr>\n",
       "  </thead>\n",
       "  <tbody>\n",
       "    <tr>\n",
       "      <th>total_vaccinations</th>\n",
       "      <td>1.000000</td>\n",
       "      <td>0.987858</td>\n",
       "      <td>0.958373</td>\n",
       "      <td>0.744393</td>\n",
       "      <td>0.824385</td>\n",
       "      <td>0.143898</td>\n",
       "      <td>0.169425</td>\n",
       "      <td>0.120984</td>\n",
       "      <td>0.021423</td>\n",
       "    </tr>\n",
       "    <tr>\n",
       "      <th>people_vaccinated</th>\n",
       "      <td>0.987858</td>\n",
       "      <td>1.000000</td>\n",
       "      <td>0.903215</td>\n",
       "      <td>0.791228</td>\n",
       "      <td>0.874288</td>\n",
       "      <td>0.103833</td>\n",
       "      <td>0.134780</td>\n",
       "      <td>0.076847</td>\n",
       "      <td>0.023146</td>\n",
       "    </tr>\n",
       "    <tr>\n",
       "      <th>people_fully_vaccinated</th>\n",
       "      <td>0.958373</td>\n",
       "      <td>0.903215</td>\n",
       "      <td>1.000000</td>\n",
       "      <td>0.610788</td>\n",
       "      <td>0.679515</td>\n",
       "      <td>0.203237</td>\n",
       "      <td>0.220327</td>\n",
       "      <td>0.192414</td>\n",
       "      <td>0.013324</td>\n",
       "    </tr>\n",
       "    <tr>\n",
       "      <th>daily_vaccinations_raw</th>\n",
       "      <td>0.744393</td>\n",
       "      <td>0.791228</td>\n",
       "      <td>0.610788</td>\n",
       "      <td>1.000000</td>\n",
       "      <td>0.917607</td>\n",
       "      <td>-0.012667</td>\n",
       "      <td>0.023730</td>\n",
       "      <td>-0.047731</td>\n",
       "      <td>0.094680</td>\n",
       "    </tr>\n",
       "    <tr>\n",
       "      <th>daily_vaccinations</th>\n",
       "      <td>0.824385</td>\n",
       "      <td>0.874288</td>\n",
       "      <td>0.679515</td>\n",
       "      <td>0.917607</td>\n",
       "      <td>1.000000</td>\n",
       "      <td>-0.007393</td>\n",
       "      <td>0.031999</td>\n",
       "      <td>-0.045749</td>\n",
       "      <td>0.104208</td>\n",
       "    </tr>\n",
       "    <tr>\n",
       "      <th>total_vaccinations_per_hundred</th>\n",
       "      <td>0.143898</td>\n",
       "      <td>0.103833</td>\n",
       "      <td>0.203237</td>\n",
       "      <td>-0.012667</td>\n",
       "      <td>-0.007393</td>\n",
       "      <td>1.000000</td>\n",
       "      <td>0.980896</td>\n",
       "      <td>0.978229</td>\n",
       "      <td>0.279567</td>\n",
       "    </tr>\n",
       "    <tr>\n",
       "      <th>people_vaccinated_per_hundred</th>\n",
       "      <td>0.169425</td>\n",
       "      <td>0.134780</td>\n",
       "      <td>0.220327</td>\n",
       "      <td>0.023730</td>\n",
       "      <td>0.031999</td>\n",
       "      <td>0.980896</td>\n",
       "      <td>1.000000</td>\n",
       "      <td>0.942768</td>\n",
       "      <td>0.366274</td>\n",
       "    </tr>\n",
       "    <tr>\n",
       "      <th>people_fully_vaccinated_per_hundred</th>\n",
       "      <td>0.120984</td>\n",
       "      <td>0.076847</td>\n",
       "      <td>0.192414</td>\n",
       "      <td>-0.047731</td>\n",
       "      <td>-0.045749</td>\n",
       "      <td>0.978229</td>\n",
       "      <td>0.942768</td>\n",
       "      <td>1.000000</td>\n",
       "      <td>0.162205</td>\n",
       "    </tr>\n",
       "    <tr>\n",
       "      <th>daily_vaccinations_per_million</th>\n",
       "      <td>0.021423</td>\n",
       "      <td>0.023146</td>\n",
       "      <td>0.013324</td>\n",
       "      <td>0.094680</td>\n",
       "      <td>0.104208</td>\n",
       "      <td>0.279567</td>\n",
       "      <td>0.366274</td>\n",
       "      <td>0.162205</td>\n",
       "      <td>1.000000</td>\n",
       "    </tr>\n",
       "  </tbody>\n",
       "</table>\n",
       "</div>"
      ],
      "text/plain": [
       "                                     total_vaccinations  people_vaccinated  \\\n",
       "total_vaccinations                             1.000000           0.987858   \n",
       "people_vaccinated                              0.987858           1.000000   \n",
       "people_fully_vaccinated                        0.958373           0.903215   \n",
       "daily_vaccinations_raw                         0.744393           0.791228   \n",
       "daily_vaccinations                             0.824385           0.874288   \n",
       "total_vaccinations_per_hundred                 0.143898           0.103833   \n",
       "people_vaccinated_per_hundred                  0.169425           0.134780   \n",
       "people_fully_vaccinated_per_hundred            0.120984           0.076847   \n",
       "daily_vaccinations_per_million                 0.021423           0.023146   \n",
       "\n",
       "                                     people_fully_vaccinated  \\\n",
       "total_vaccinations                                  0.958373   \n",
       "people_vaccinated                                   0.903215   \n",
       "people_fully_vaccinated                             1.000000   \n",
       "daily_vaccinations_raw                              0.610788   \n",
       "daily_vaccinations                                  0.679515   \n",
       "total_vaccinations_per_hundred                      0.203237   \n",
       "people_vaccinated_per_hundred                       0.220327   \n",
       "people_fully_vaccinated_per_hundred                 0.192414   \n",
       "daily_vaccinations_per_million                      0.013324   \n",
       "\n",
       "                                     daily_vaccinations_raw  \\\n",
       "total_vaccinations                                 0.744393   \n",
       "people_vaccinated                                  0.791228   \n",
       "people_fully_vaccinated                            0.610788   \n",
       "daily_vaccinations_raw                             1.000000   \n",
       "daily_vaccinations                                 0.917607   \n",
       "total_vaccinations_per_hundred                    -0.012667   \n",
       "people_vaccinated_per_hundred                      0.023730   \n",
       "people_fully_vaccinated_per_hundred               -0.047731   \n",
       "daily_vaccinations_per_million                     0.094680   \n",
       "\n",
       "                                     daily_vaccinations  \\\n",
       "total_vaccinations                             0.824385   \n",
       "people_vaccinated                              0.874288   \n",
       "people_fully_vaccinated                        0.679515   \n",
       "daily_vaccinations_raw                         0.917607   \n",
       "daily_vaccinations                             1.000000   \n",
       "total_vaccinations_per_hundred                -0.007393   \n",
       "people_vaccinated_per_hundred                  0.031999   \n",
       "people_fully_vaccinated_per_hundred           -0.045749   \n",
       "daily_vaccinations_per_million                 0.104208   \n",
       "\n",
       "                                     total_vaccinations_per_hundred  \\\n",
       "total_vaccinations                                         0.143898   \n",
       "people_vaccinated                                          0.103833   \n",
       "people_fully_vaccinated                                    0.203237   \n",
       "daily_vaccinations_raw                                    -0.012667   \n",
       "daily_vaccinations                                        -0.007393   \n",
       "total_vaccinations_per_hundred                             1.000000   \n",
       "people_vaccinated_per_hundred                              0.980896   \n",
       "people_fully_vaccinated_per_hundred                        0.978229   \n",
       "daily_vaccinations_per_million                             0.279567   \n",
       "\n",
       "                                     people_vaccinated_per_hundred  \\\n",
       "total_vaccinations                                        0.169425   \n",
       "people_vaccinated                                         0.134780   \n",
       "people_fully_vaccinated                                   0.220327   \n",
       "daily_vaccinations_raw                                    0.023730   \n",
       "daily_vaccinations                                        0.031999   \n",
       "total_vaccinations_per_hundred                            0.980896   \n",
       "people_vaccinated_per_hundred                             1.000000   \n",
       "people_fully_vaccinated_per_hundred                       0.942768   \n",
       "daily_vaccinations_per_million                            0.366274   \n",
       "\n",
       "                                     people_fully_vaccinated_per_hundred  \\\n",
       "total_vaccinations                                              0.120984   \n",
       "people_vaccinated                                               0.076847   \n",
       "people_fully_vaccinated                                         0.192414   \n",
       "daily_vaccinations_raw                                         -0.047731   \n",
       "daily_vaccinations                                             -0.045749   \n",
       "total_vaccinations_per_hundred                                  0.978229   \n",
       "people_vaccinated_per_hundred                                   0.942768   \n",
       "people_fully_vaccinated_per_hundred                             1.000000   \n",
       "daily_vaccinations_per_million                                  0.162205   \n",
       "\n",
       "                                     daily_vaccinations_per_million  \n",
       "total_vaccinations                                         0.021423  \n",
       "people_vaccinated                                          0.023146  \n",
       "people_fully_vaccinated                                    0.013324  \n",
       "daily_vaccinations_raw                                     0.094680  \n",
       "daily_vaccinations                                         0.104208  \n",
       "total_vaccinations_per_hundred                             0.279567  \n",
       "people_vaccinated_per_hundred                              0.366274  \n",
       "people_fully_vaccinated_per_hundred                        0.162205  \n",
       "daily_vaccinations_per_million                             1.000000  "
      ]
     },
     "execution_count": 58,
     "metadata": {},
     "output_type": "execute_result"
    }
   ],
   "source": [
    "covid.corr()"
   ]
  },
  {
   "cell_type": "code",
   "execution_count": 5,
   "id": "f2332e73-9faa-43b6-a9f7-bd7843a67c38",
   "metadata": {},
   "outputs": [
    {
     "data": {
      "text/plain": [
       "total_vaccinations         263852.19\n",
       "people_vaccinated          147928.33\n",
       "people_fully_vaccinated     55552.23\n",
       "daily_vaccinations          55583.50\n",
       "daily_vaccinations_raw         68.74\n",
       "dtype: float64"
      ]
     },
     "execution_count": 5,
     "metadata": {},
     "output_type": "execute_result"
    }
   ],
   "source": [
    "ff=covid[covid['country']=='Afghanistan'][['total_vaccinations','people_vaccinated','people_fully_vaccinated','daily_vaccinations','daily_vaccinations_raw']].sum()/100\n",
    "ff"
   ]
  },
  {
   "cell_type": "code",
   "execution_count": 8,
   "id": "a3f2a3af-4777-43c4-ae77-31f4c4c8d086",
   "metadata": {},
   "outputs": [
    {
     "data": {
      "text/plain": [
       "total_vaccinations         8.192403e+09\n",
       "people_vaccinated          3.241783e+09\n",
       "people_fully_vaccinated    1.985768e+09\n",
       "daily_vaccinations         7.355274e+07\n",
       "daily_vaccinations_raw     6.411473e+07\n",
       "dtype: float64"
      ]
     },
     "execution_count": 8,
     "metadata": {},
     "output_type": "execute_result"
    }
   ],
   "source": [
    "f=covid[['total_vaccinations','people_vaccinated','people_fully_vaccinated','daily_vaccinations','daily_vaccinations_raw']].sum()/100\n",
    "f"
   ]
  },
  {
   "cell_type": "code",
   "execution_count": 137,
   "id": "68794e58-77b6-44cf-a268-9443c8ad592f",
   "metadata": {},
   "outputs": [
    {
     "data": {
      "text/plain": [
       "<AxesSubplot:>"
      ]
     },
     "execution_count": 137,
     "metadata": {},
     "output_type": "execute_result"
    },
    {
     "data": {
      "image/png": "[encoded data removed]",
      "text/plain": [
       "<Figure size 432x288 with 1 Axes>"
      ]
     },
     "metadata": {
      "needs_background": "light"
     },
     "output_type": "display_data"
    }
   ],
   "source": [
    "ff.plot(kind='barh')"
   ]
  },
  {
   "cell_type": "code",
   "execution_count": 26,
   "id": "702a60e3-974c-4e72-925a-650383f098ea",
   "metadata": {},
   "outputs": [
    {
     "data": {
      "text/plain": [
       "'India'"
      ]
     },
     "execution_count": 26,
     "metadata": {},
     "output_type": "execute_result"
    }
   ],
   "source": [
    "data2=covid.groupby('country')['people_vaccinated'].sum().idxmax()\n",
    "data2"
   ]
  },
  {
   "cell_type": "code",
   "execution_count": 19,
   "id": "2025b48a-69e6-4ff2-a573-27a35ad2b5e8",
   "metadata": {},
   "outputs": [
    {
     "data": {
      "text/plain": [
       "'United States'"
      ]
     },
     "execution_count": 19,
     "metadata": {},
     "output_type": "execute_result"
    }
   ],
   "source": [
    "data3=covid.groupby('country')['people_fully_vaccinated'].sum().idxmax()\n",
    "data3"
   ]
  },
  {
   "cell_type": "code",
   "execution_count": 16,
   "id": "cefbb88d-b4c7-4e59-8ab8-4627049fcbef",
   "metadata": {},
   "outputs": [
    {
     "data": {
      "text/plain": [
       "country\n",
       "Afghanistan       6874.0\n",
       "Albania        1272349.0\n",
       "Algeria             30.0\n",
       "Andorra           4802.0\n",
       "Angola               0.0\n",
       "Name: daily_vaccinations_raw, dtype: float64"
      ]
     },
     "execution_count": 16,
     "metadata": {},
     "output_type": "execute_result"
    }
   ],
   "source": [
    "data4=covid.groupby('country')['daily_vaccinations_raw'].sum()\n",
    "data4.head()"
   ]
  },
  {
   "cell_type": "code",
   "execution_count": 28,
   "id": "aee0455a-f951-4f3e-b764-af0c9a3c75c6",
   "metadata": {},
   "outputs": [
    {
     "data": {
      "text/plain": [
       "country\n",
       "Afghanistan     55583.50\n",
       "Albania         19313.12\n",
       "Algeria        112022.48\n",
       "Andorra          1020.18\n",
       "Angola          68974.32\n",
       "Name: daily_vaccinations, dtype: float64"
      ]
     },
     "execution_count": 28,
     "metadata": {},
     "output_type": "execute_result"
    }
   ],
   "source": [
    "data5= covid.groupby('country')['daily_vaccinations'].sum()/100\n",
    "data5.head()"
   ]
  },
  {
   "cell_type": "code",
   "execution_count": 13,
   "id": "bf7c4d76-751b-4eab-9785-ad8627e22db3",
   "metadata": {},
   "outputs": [
    {
     "data": {
      "text/plain": [
       "country                        Zimbabwe\n",
       "people_fully_vaccinated    1072454000.0\n",
       "dtype: object"
      ]
     },
     "execution_count": 13,
     "metadata": {},
     "output_type": "execute_result"
    }
   ],
   "source": [
    "f=covid[['country','people_fully_vaccinated']].max()\n",
    "f"
   ]
  },
  {
   "cell_type": "code",
   "execution_count": 190,
   "id": "cae00bef-ee17-41f6-92ea-89a913961b9a",
   "metadata": {},
   "outputs": [
    {
     "data": {
      "text/plain": [
       "country                    Afghanistan\n",
       "people_fully_vaccinated            1.0\n",
       "dtype: object"
      ]
     },
     "execution_count": 190,
     "metadata": {},
     "output_type": "execute_result"
    }
   ],
   "source": [
    "g=covid[['country','people_fully_vaccinated']].min()\n",
    "g"
   ]
  },
  {
   "cell_type": "code",
   "execution_count": 29,
   "id": "c06e1657-0579-4239-b5b9-f79860c34c89",
   "metadata": {},
   "outputs": [
    {
     "data": {
      "text/plain": [
       "month\n",
       "01      752816.01\n",
       "02     1357932.01\n",
       "03     3109720.79\n",
       "04     5104789.82\n",
       "05     7544975.93\n",
       "06    10973956.69\n",
       "07     9680699.84\n",
       "08     9991733.93\n",
       "09     7752143.17\n",
       "10     5862321.81\n",
       "11     1912558.58\n",
       "12       71082.67\n",
       "Name: daily_vaccinations_raw, dtype: float64"
      ]
     },
     "execution_count": 29,
     "metadata": {},
     "output_type": "execute_result"
    }
   ],
   "source": [
    "data6=covid.groupby('month')['daily_vaccinations_raw'].sum()/100\n",
    "data6"
   ]
  },
  {
   "cell_type": "code",
   "execution_count": 31,
   "id": "70d80ad8-e097-4406-9e12-49b0b4b7c9cd",
   "metadata": {},
   "outputs": [
    {
     "data": {
      "text/plain": [
       "month\n",
       "01    1.426401e+06\n",
       "02    9.038055e+06\n",
       "03    2.850763e+07\n",
       "04    6.049543e+07\n",
       "05    1.104754e+08\n",
       "06    1.581634e+08\n",
       "07    2.305880e+08\n",
       "08    3.252528e+08\n",
       "09    4.269306e+08\n",
       "10    4.803974e+08\n",
       "11    1.544901e+08\n",
       "12    2.316150e+03\n",
       "Name: people_fully_vaccinated, dtype: float64"
      ]
     },
     "execution_count": 31,
     "metadata": {},
     "output_type": "execute_result"
    }
   ],
   "source": [
    "data7=covid.groupby('month')['people_fully_vaccinated'].sum()/100\n",
    "data7"
   ]
  },
  {
   "cell_type": "code",
   "execution_count": 182,
   "id": "3781c529-e9c3-4199-b8c8-ca7e9982eca5",
   "metadata": {},
   "outputs": [
    {
     "data": {
      "image/png": "[encoded data removed]",
      "text/plain": [
       "<Figure size 720x720 with 1 Axes>"
      ]
     },
     "metadata": {
      "needs_background": "light"
     },
     "output_type": "display_data"
    }
   ],
   "source": [
    "data7.plot(kind='barh',color='red',figsize=(10,10),title= 'month people fully vaccinated')\n",
    "plt.savefig('plot2.png')"
   ]
  },
  {
   "cell_type": "code",
   "execution_count": 124,
   "id": "f8141f79-f06a-44b2-8f9e-09bef0a84b4e",
   "metadata": {},
   "outputs": [],
   "source": [
    "data8=covid1.groupby('month')['daily_vaccinations'].sum()"
   ]
  },
  {
   "cell_type": "code",
   "execution_count": 188,
   "id": "b1910f28-c358-4bc3-9d68-5de6641f958e",
   "metadata": {},
   "outputs": [
    {
     "data": {
      "image/png": "[encoded data removed]",
      "text/plain": [
       "<Figure size 432x288 with 1 Axes>"
      ]
     },
     "metadata": {
      "needs_background": "light"
     },
     "output_type": "display_data"
    },
    {
     "data": {
      "text/plain": [
       "<Figure size 432x288 with 0 Axes>"
      ]
     },
     "metadata": {},
     "output_type": "display_data"
    }
   ],
   "source": [
    "# bar plot with default statistic=mean\n",
    "sns.barplot(x='month', y='daily_vaccinations',data=covid1)\n",
    "plt.show()\n",
    "plt.savefig('plot1')"
   ]
  },
  {
   "cell_type": "code",
   "execution_count": 33,
   "id": "8a62f96d-13cd-4ee0-b4c8-af74a1db2668",
   "metadata": {},
   "outputs": [
    {
     "data": {
      "text/plain": [
       "'United States'"
      ]
     },
     "execution_count": 33,
     "metadata": {},
     "output_type": "execute_result"
    }
   ],
   "source": [
    "data11= covid.groupby('country')['people_fully_vaccinated'].sum().idxmax()\n",
    "data11"
   ]
  },
  {
   "cell_type": "code",
   "execution_count": 34,
   "id": "0e88b413-c5d5-45e0-a9c3-bf09248f4cb5",
   "metadata": {},
   "outputs": [],
   "source": [
    "data9=covid.groupby('month')['people_vaccinated'].sum()"
   ]
  },
  {
   "cell_type": "code",
   "execution_count": 35,
   "id": "4abe244d-ea12-434f-be06-04f35618f40f",
   "metadata": {},
   "outputs": [
    {
     "data": {
      "image/png": "[encoded data removed]",
      "text/plain": [
       "<Figure size 432x288 with 1 Axes>"
      ]
     },
     "metadata": {
      "needs_background": "light"
     },
     "output_type": "display_data"
    },
    {
     "data": {
      "text/plain": [
       "<Figure size 432x288 with 0 Axes>"
      ]
     },
     "metadata": {},
     "output_type": "display_data"
    }
   ],
   "source": [
    "sns.barplot(x='month', y='total_vaccinations',data=covid)\n",
    "plt.show()\n",
    "plt.savefig('plot1')"
   ]
  },
  {
   "cell_type": "code",
   "execution_count": 36,
   "id": "7195e3aa-e559-40bd-a94b-3e06379fc68e",
   "metadata": {},
   "outputs": [
    {
     "data": {
      "image/png": "[encoded data removed]",
      "text/plain": [
       "<Figure size 432x288 with 1 Axes>"
      ]
     },
     "metadata": {
      "needs_background": "light"
     },
     "output_type": "display_data"
    },
    {
     "data": {
      "text/plain": [
       "<Figure size 432x288 with 0 Axes>"
      ]
     },
     "metadata": {},
     "output_type": "display_data"
    }
   ],
   "source": [
    "sns.barplot(x='month', y='daily_vaccinations',data=covid)\n",
    "plt.show()\n",
    "plt.savefig('plot1')"
   ]
  },
  {
   "cell_type": "code",
   "execution_count": 39,
   "id": "9d6474bf-9ed7-47b3-9031-d4e30489a772",
   "metadata": {},
   "outputs": [
    {
     "data": {
      "text/plain": [
       "month\n",
       "01    1.366646e+07\n",
       "02    4.526156e+07\n",
       "03    1.230325e+08\n",
       "04    2.642707e+08\n",
       "05    4.644108e+08\n",
       "06    7.480758e+08\n",
       "07    1.086753e+09\n",
       "08    1.397935e+09\n",
       "09    1.640677e+09\n",
       "10    1.846477e+09\n",
       "11    5.613076e+08\n",
       "12    5.356469e+05\n",
       "Name: total_vaccinations, dtype: float64"
      ]
     },
     "execution_count": 39,
     "metadata": {},
     "output_type": "execute_result"
    }
   ],
   "source": [
    "data10=covid.groupby('month')['total_vaccinations'].sum()/100\n",
    "data10"
   ]
  },
  {
   "cell_type": "code",
   "execution_count": 115,
   "id": "3e1e1400-8919-4798-bc75-886b2b805da2",
   "metadata": {},
   "outputs": [
    {
     "data": {
      "text/plain": [
       "'2021-11-09'"
      ]
     },
     "execution_count": 115,
     "metadata": {},
     "output_type": "execute_result"
    }
   ],
   "source": [
    "covid1['date'].max()"
   ]
  },
  {
   "cell_type": "code",
   "execution_count": 114,
   "id": "30e99932-a48d-4698-b60d-ce0b1c39e38a",
   "metadata": {},
   "outputs": [
    {
     "data": {
      "text/plain": [
       "'2020-12-14'"
      ]
     },
     "execution_count": 114,
     "metadata": {},
     "output_type": "execute_result"
    }
   ],
   "source": [
    "covid1['date'].min()"
   ]
  },
  {
   "cell_type": "code",
   "execution_count": 91,
   "id": "26fad21f-6563-4e55-a2a8-5aa5be77f603",
   "metadata": {},
   "outputs": [],
   "source": []
  }
 ],
 "metadata": {
  "kernelspec": {
   "display_name": "Python 3",
   "language": "python",
   "name": "python3"
  },
  "language_info": {
   "codemirror_mode": {
    "name": "ipython",
    "version": 3
   },
   "file_extension": ".py",
   "mimetype": "text/x-python",
   "name": "python",
   "nbconvert_exporter": "python",
   "pygments_lexer": "ipython3",
   "version": "3.8.8"
  }
 },
 "nbformat": 4,
 "nbformat_minor": 5
}
